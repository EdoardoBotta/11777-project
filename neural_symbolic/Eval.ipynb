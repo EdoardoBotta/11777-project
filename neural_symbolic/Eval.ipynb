{
 "cells": [
  {
   "cell_type": "code",
   "execution_count": 1,
   "id": "93d38efa-cc02-4641-b3d4-e8b48ef2a1f2",
   "metadata": {},
   "outputs": [],
   "source": [
    "import json"
   ]
  },
  {
   "cell_type": "code",
   "execution_count": 2,
   "id": "5473fe55-0349-4a6f-919d-1c17adef6d09",
   "metadata": {},
   "outputs": [],
   "source": [
    "with open('wino_amrs.jsonl') as f:\n",
    "    gt_amrs = [json.loads(l) for l in f]"
   ]
  },
  {
   "cell_type": "code",
   "execution_count": 13,
   "id": "169c9488-0ecf-49b0-aa56-f4e871f21490",
   "metadata": {},
   "outputs": [],
   "source": [
    "# Change to your output parse file\n",
    "model_name='blip2-flant5xl'\n",
    "# model_name='blip2-opt-6.7b-coco'\n",
    "with open(f'sample_outputs/wino_{model_name}_caps_parse.jsonl') as f:\n",
    "    cand_amrs = [json.loads(l) for l in f]"
   ]
  },
  {
   "cell_type": "code",
   "execution_count": 4,
   "id": "ece425a0-2865-47de-be60-3106be33c0c8",
   "metadata": {},
   "outputs": [],
   "source": [
    "gt_amrs = gt_amrs[:len(cand_amrs)]"
   ]
  },
  {
   "cell_type": "code",
   "execution_count": 5,
   "id": "7591d4e7-b944-47be-8c12-86253d0275fc",
   "metadata": {},
   "outputs": [],
   "source": [
    "SAMPLE_SIZE=len(cand_amrs[0]['parses_0'])"
   ]
  },
  {
   "cell_type": "code",
   "execution_count": 6,
   "id": "98394a62-9f5a-4122-8489-87af308d807f",
   "metadata": {},
   "outputs": [],
   "source": [
    "def full_score(candidate,ground_truth):\n",
    "    full_score=!python smatch/smatch.py -f {candidate} {ground_truth}  --ms --significant 10 | cut -d ':' -f2\n",
    "    return list(map(float,full_score))\n",
    "\n",
    "def full_score_recall(candidate,ground_truth):\n",
    "    full_score=!python smatch/smatch.py -f {candidate} {ground_truth}  --ms --pr --significant 10 | grep Recall | cut -d ':' -f2\n",
    "    return list(map(float,full_score))\n",
    "\n",
    "def rel_score(candidate,ground_truth):\n",
    "    just_rel=!python smatch/smatch.py -f {candidate} {ground_truth} --ms --justrelation | cut -d ':' -f2\n",
    "    return list(map(float,just_rel))\n",
    "\n",
    "def attr_score(candidate,ground_truth):\n",
    "    just_attr=!python smatch/smatch.py -f {candidate} {ground_truth} --ms --justattribute | cut -d ':' -f2\n",
    "    return list(map(float,just_attr))\n",
    "\n",
    "def inst_score(candidate,ground_truth):\n",
    "    just_inst=!python smatch/smatch.py -f {candidate} {ground_truth} --ms --justinstance | cut -d ':' -f2\n",
    "    return list(map(float,just_inst))\n",
    "\n",
    "# try sema\n",
    "# def full_score(candidate,ground_truth):\n",
    "#     full_score=!python sema/sema.py -t {candidate} -g {ground_truth}  --ms | cut -d ':' -f2\n",
    "#     return list(map(float,full_score))\n",
    "\n",
    "smatch_score_map = {\n",
    "    'full':full_score,\n",
    "    'full_recall':full_score_recall,\n",
    "    'rel':rel_score,\n",
    "    'attr':attr_score,\n",
    "    'inst':inst_score\n",
    "}\n",
    "\n",
    "def get_smatch_scores_from_file(ground_truth_path,candidate_path,method='full'):\n",
    "    global smatch_score_map\n",
    "    if method not in smatch_score_map:\n",
    "        raise ValueError(\"invalid smatch score method\")\n",
    "    return smatch_score_map[method](candidate_path,ground_truth_path)\n",
    "\n",
    "def save_tmp_amr(f1,f2,ground_truth_path,candidate_path):\n",
    "    with open(ground_truth_path,'w') as f, open(candidate_path,'w') as g:\n",
    "        for p0,p1 in zip(f1,f2):\n",
    "            print(p0,file=f)\n",
    "            print(p1,file=g)\n",
    "            \n",
    "def get_smatch_scores(f1,f2,method='full'):\n",
    "    candidate_path=\"cand_test.amr\"\n",
    "    ground_truth_path=\"gt_test.amr\"\n",
    "    save_tmp_amr(f1,f2,ground_truth_path,candidate_path)\n",
    "    return get_smatch_scores_from_file(ground_truth_path,candidate_path,method=method)"
   ]
  },
  {
   "cell_type": "code",
   "execution_count": 7,
   "id": "451224ef-cd62-45a8-ae69-e85a3f5cc1c5",
   "metadata": {},
   "outputs": [],
   "source": [
    "# C0,I0,C1\n",
    "# s(C0,I0) vs s(C1,I0)\n",
    "# s(C,I) => smatch(parse(C),parse(cap(I)))"
   ]
  },
  {
   "cell_type": "code",
   "execution_count": 8,
   "id": "e0f82ace-61ef-4429-b4d4-ad4cf96070d0",
   "metadata": {},
   "outputs": [],
   "source": [
    "import statistics"
   ]
  },
  {
   "cell_type": "code",
   "execution_count": 9,
   "id": "409f23a0-9b53-41d9-a1fe-0634b7e1d983",
   "metadata": {},
   "outputs": [],
   "source": [
    "def get_handles(gt_amrs,cand_amrs):\n",
    "    fc0=[gt_amr['parse_0'] for gt_amr in gt_amrs for _ in range(SAMPLE_SIZE)]\n",
    "    fi0=[p for cand_amr in cand_amrs for p in cand_amr['parses_0']]\n",
    "    fc1=[gt_amr['parse_1'] for gt_amr in gt_amrs for _ in range(SAMPLE_SIZE)]\n",
    "    fi1=[p for cand_amr in cand_amrs for p in cand_amr['parses_1']]\n",
    "    return fc0,fc1,fi0,fi1\n",
    "\n",
    "def get_pair_scores(scoring_func,fc0,fc1,fi0,fi1):\n",
    "    s00 = list(scoring_func(fc0,fi0))\n",
    "    s01 = list(scoring_func(fc0,fi1))\n",
    "    s10 = list(scoring_func(fc0,fi1))\n",
    "    s11 = list(scoring_func(fc1,fi1))\n",
    "    return s00,s01,s10,s11\n",
    "\n",
    "def get_text_score(s00,s01,s10,s11):\n",
    "    # s00 = score(C0,I0)\n",
    "    # text score == given image, pick caption\n",
    "    counts = [c0>x0 and c1>x1 for c0,x0,c1,x1 in zip(s00,s10,s11,s01)]\n",
    "    return sum(counts)/len(counts),counts\n",
    "\n",
    "def get_image_score(s00,s01,s10,s11):\n",
    "    counts = [c0>x0 and c1>x1 for c0,x0,c1,x1 in zip(s00,s01,s11,s10)]\n",
    "    return sum(counts)/len(counts),counts\n",
    "\n",
    "def get_group_score(s00,s01,s10,s11):\n",
    "    counts = [c00>x01 and c00>x10 and c11>x01 and c11>x10 for c00,x01,c11,x10 in zip(s00,s01,s11,s10)]\n",
    "    return sum(counts)/len(counts),counts"
   ]
  },
  {
   "cell_type": "code",
   "execution_count": 10,
   "id": "22a0b886-12a5-4b8b-84d0-4ac1fe063dda",
   "metadata": {},
   "outputs": [],
   "source": [
    "fc0,fc1,fi0,fi1 = get_handles(gt_amrs,cand_amrs)\n",
    "score_func=lambda f1,f2:get_smatch_scores(f1,f2,method='full')\n",
    "s00,s01,s10,s11 = get_pair_scores(score_func,fc0,fc1,fi0,fi1)\n",
    "text_score,txt_cnt=get_text_score(s00,s01,s10,s11)\n",
    "im_score,im_cnt=get_image_score(s00,s01,s10,s11)\n",
    "gp_score,gp_cnt=get_group_score(s00,s01,s10,s11)"
   ]
  },
  {
   "cell_type": "code",
   "execution_count": 11,
   "id": "ea8ead47-f5d7-428c-91cb-d421e5bf9e36",
   "metadata": {},
   "outputs": [
    {
     "name": "stdout",
     "output_type": "stream",
     "text": [
      "0.1005 0.102 0.099\n"
     ]
    }
   ],
   "source": [
    "print(text_score,im_score,gp_score)"
   ]
  },
  {
   "cell_type": "code",
   "execution_count": 12,
   "id": "6008c6a6-c216-4375-9220-d1f3f89749ff",
   "metadata": {},
   "outputs": [
    {
     "data": {
      "text/plain": [
       "(0.5384615385, 0.3571428571, 0.5, 0.3571428571)"
      ]
     },
     "execution_count": 12,
     "metadata": {},
     "output_type": "execute_result"
    }
   ],
   "source": [
    "s00[0],s10[0],s11[0],s01[0]"
   ]
  },
  {
   "cell_type": "code",
   "execution_count": 18,
   "id": "03eeee3b-9ba4-424d-8a2e-9867ec70ec13",
   "metadata": {},
   "outputs": [
    {
     "data": {
      "text/plain": [
       "2000"
      ]
     },
     "execution_count": 18,
     "metadata": {},
     "output_type": "execute_result"
    }
   ],
   "source": [
    "len(txt_cnt)"
   ]
  },
  {
   "cell_type": "code",
   "execution_count": 19,
   "id": "eec8bcb0-709f-4a0c-be7b-7e1478b6ce00",
   "metadata": {},
   "outputs": [],
   "source": [
    "def get_avg_cnt_first(cnt):\n",
    "    cnt_avg_first = [ sum([cnt[i+idx] for idx in range(SAMPLE_SIZE)])/SAMPLE_SIZE for i in range(0,len(txt_cnt),SAMPLE_SIZE)]\n",
    "    return cnt_avg_first"
   ]
  },
  {
   "cell_type": "code",
   "execution_count": 20,
   "id": "4e510456-52d7-4a40-8645-31b5b7cc4b43",
   "metadata": {},
   "outputs": [],
   "source": [
    "def get_filtered_list(cnt,filter_set_ids):\n",
    "    cnt_filtered = [ cnt[i] for i in range(len(cnt)) if i in filter_set_ids]\n",
    "    return cnt_filtered\n",
    "\n",
    "def get_filtered_score(cnt_expanded,filter_set_ids):\n",
    "    cnt = get_avg_cnt_first(cnt_expanded)\n",
    "    filtered = get_filtered_list(cnt,filter_set_ids)\n",
    "    return sum(filtered)/len(filtered) , filtered"
   ]
  },
  {
   "cell_type": "code",
   "execution_count": 21,
   "id": "0216757f-b91d-4f61-90b8-5bdf035be1e8",
   "metadata": {},
   "outputs": [],
   "source": [
    "compositionality_sample_ids = set([\n",
    "    0,1,2,5,6,7,8,9,11,12,14,15,17,18,19,20,21,24,26,29,30,32,33,34,35,37,39,43,45,47,48,50,51,52,53,54,56,57,59,60,64,66,67,\n",
    "    71,79,80,85,87,89,90,91,92,94,98,99,100,101,102,104,105,106,107,108,109,112,115,117,120,122,123,124,125,126,127,129,137,139,140,141,142,145,146,147,151,153,154,\n",
    "    157,158,160,161,162,165,166,167,168,169,170,171,175,177,178,179,180,181,183,184,185,186,194,195,196,197,202,205,207,212,213,216,225,231,236,240,243,244,248,250,251,252,256,\n",
    "    259,261,265,266,269,270,271,272,273,278,279,283,285,288,289,290,291,294,297,301,302,306,308,309,317,328,337,341,349,357,360,366,368,369,370,372,378,379,380,389,391,397\n",
    "])\n",
    "actor_recipient = set([0,1,2,5,6,8,9,66, 85, 98, 153, 161, 167, 168, 175, 178, 180, 181, 186, 194, 195, 196, 212, 225, 231, 248, 250])\n",
    "\n",
    "placement_and_positioning = set([79, 91, 137, 154,290, 328, 337, 357, 360, 378, 379, 380, 389,\n",
    "157, 158, 162, 165, 166, 177, 179, 183, 184, 185, 202, 244, 248,\n",
    "79, 91, 137, 154, 56\n",
    "])\n",
    "\n",
    "action_swaps = set([270, 271, 272, 278, 279, 283, 285, 288, 289, 294, 301, 306, 308, 309, 317, 328, 341, 349, 376, 357, 360, 366, 368, 369, 370, 372, 378, 379, 380, 389, 397, 0, 1, 2, 5, 6, 8, 9, 66,21,24,26,48,142 , 146 , 14, 180,181, 194, 195, 196, 225, 231, 248, 250])\n",
    "\n",
    "counting = set([265, 285, 15, 17, 18, 19, 20, 59, 60,90, 140, 141, 145,265, 285, 15, 17, 18, 19, 20, 59, 60])\n",
    "\n",
    "attribute_binding = set([71, 102, 104, 105, 106, 107, 108, 109, 112, 115,  122, 125, 127,259, 261, 266, 269, 273, 291, 297, 391,225, 231, 248])\n",
    "\n",
    "\n",
    "categories = {\n",
    "    'attribute_binding':attribute_binding,\n",
    "    'counting':counting,\n",
    "    'action_swaps':action_swaps,\n",
    "    'placement_and_positioning':placement_and_positioning,\n",
    "    'actor_recipient':actor_recipient\n",
    "}"
   ]
  },
  {
   "cell_type": "code",
   "execution_count": 22,
   "id": "a83d4007-9a96-4844-91fa-502fbcfa2dd3",
   "metadata": {},
   "outputs": [],
   "source": [
    "txt_score_avg_first = get_avg_cnt_first(txt_cnt)"
   ]
  },
  {
   "cell_type": "code",
   "execution_count": 23,
   "id": "e0d85e8a-8dcd-4d26-8eac-46c90b86add2",
   "metadata": {},
   "outputs": [],
   "source": [
    "txt_filtered_score_og, txt_filtered_cnt_og = get_filtered_score(txt_cnt,compositionality_sample_ids)"
   ]
  },
  {
   "cell_type": "code",
   "execution_count": 24,
   "id": "2fc71fe4-01ae-40a1-9957-fb978b89d4a1",
   "metadata": {},
   "outputs": [],
   "source": [
    "txt_filtered_score_actor, txt_filtered_cnt_actor = get_filtered_score(txt_cnt,actor_recipient)"
   ]
  },
  {
   "cell_type": "code",
   "execution_count": 26,
   "id": "0c71ca51-91d6-4bfc-8f2b-299123238486",
   "metadata": {},
   "outputs": [
    {
     "name": "stdout",
     "output_type": "stream",
     "text": [
      "attribute_binding,10.00%,9.17%,9.17%\n",
      "counting,4.62%,4.62%,4.62%\n",
      "action_swaps,12.00%,12.00%,12.00%\n",
      "placement_and_positioning,13.33%,13.33%,13.33%\n",
      "actor_recipient,12.59%,12.59%,12.59%\n"
     ]
    }
   ],
   "source": [
    "for cat,cat_set in categories.items():\n",
    "    tscore,_=get_filtered_score(txt_cnt,cat_set)\n",
    "    iscore,_=get_filtered_score(im_cnt,cat_set)\n",
    "    gscore,_=get_filtered_score(gp_cnt,cat_set)\n",
    "    print(f\"{cat},{tscore:.2%},{iscore:.2%},{gscore:.2%}\")"
   ]
  },
  {
   "cell_type": "code",
   "execution_count": 227,
   "id": "40545365-ce4a-4fd2-a511-35c2a0b53b14",
   "metadata": {},
   "outputs": [],
   "source": [
    "# 1. what's the baseline smatch score between C0,C1 (not cap(I0))\n",
    "# 2. what's the breakdown of errors\n",
    "# 3. subset category performance"
   ]
  },
  {
   "cell_type": "code",
   "execution_count": 228,
   "id": "c57bebd0-1fc7-4a00-94ca-260bc0ca6ba5",
   "metadata": {},
   "outputs": [],
   "source": [
    "def get_error_ids(cnt):\n",
    "    # only zero text scores\n",
    "    assert len(cnt)==400\n",
    "    return [i for i in range(len(cnt)) if not cnt[i]]"
   ]
  },
  {
   "cell_type": "code",
   "execution_count": 229,
   "id": "cda8863c-44ca-4ff9-9372-b0ccdfff6057",
   "metadata": {},
   "outputs": [],
   "source": [
    "txt_err_idx = get_error_ids(txt_score_avg_first)"
   ]
  },
  {
   "cell_type": "code",
   "execution_count": 261,
   "id": "76c165cc-9eb4-409a-ad25-b7c51d05636e",
   "metadata": {},
   "outputs": [],
   "source": [
    "txt_corr_idx = set(range(len(txt_score_avg_first)))-set(get_error_ids(txt_score_avg_first))"
   ]
  },
  {
   "cell_type": "code",
   "execution_count": 264,
   "id": "f6802a62-f4d1-4199-8ed4-0db48f4eee5a",
   "metadata": {},
   "outputs": [
    {
     "name": "stdout",
     "output_type": "stream",
     "text": [
      "[0, 5, 12, 14, 21, 29, 30, 38, 39, 41, 46, 47, 49, 50, 51, 58, 60, 70, 76, 94, 100, 111, 112, 113, 114, 117, 123, 158, 163, 165, 173, 175, 180, 189, 203, 209, 222, 225, 247, 255, 261, 269, 300, 325, 332, 337, 341, 342, 348, 349, 351, 357, 363, 365, 367, 374, 375, 376, 378, 387]\n"
     ]
    }
   ],
   "source": [
    "print(list(sorted(txt_corr_idx)))"
   ]
  },
  {
   "cell_type": "code",
   "execution_count": 230,
   "id": "fc9a8023-0877-4b70-9de1-8faa141f56e4",
   "metadata": {},
   "outputs": [
    {
     "data": {
      "text/plain": [
       "[1, 2, 6, 7, 8, 9, 11, 15, 17, 18]"
      ]
     },
     "execution_count": 230,
     "metadata": {},
     "output_type": "execute_result"
    }
   ],
   "source": [
    "list(set(txt_err_idx)&compositionality_sample_ids)[:10]"
   ]
  },
  {
   "cell_type": "code",
   "execution_count": 231,
   "id": "980c006c-0d9c-483b-b964-67a53335c829",
   "metadata": {},
   "outputs": [
    {
     "data": {
      "text/plain": [
       "'\\ns(Ii0,Ci0) 1\\nS(Ii0,Ci1) 0\\ns(Ii0,Ci0)>s(Ii0,Ci1) =>1 else 0\\n\\n\\nI0,C0,C1\\n'"
      ]
     },
     "execution_count": 231,
     "metadata": {},
     "output_type": "execute_result"
    }
   ],
   "source": [
    "\"\"\"\n",
    "s(Ii0,Ci0) 1\n",
    "S(Ii0,Ci1) 0\n",
    "s(Ii0,Ci0)>s(Ii0,Ci1) =>1 else 0\n",
    "\n",
    "\n",
    "I0,C0,C1\n",
    "\"\"\""
   ]
  },
  {
   "cell_type": "code",
   "execution_count": 257,
   "id": "47a00532-ba78-4faa-bbc4-c7a4d9c735ca",
   "metadata": {},
   "outputs": [
    {
     "data": {
      "text/plain": [
       "(0.3333333333, 0.3333333333, 0.1666666667, 0.3333333333)"
      ]
     },
     "execution_count": 257,
     "metadata": {},
     "output_type": "execute_result"
    }
   ],
   "source": [
    "idx=7*SAMPLE_SIZE\n",
    "s00[idx],s10[idx],s11[idx],s01[idx]"
   ]
  },
  {
   "cell_type": "code",
   "execution_count": 271,
   "id": "00c7e9e3-8e88-4332-8926-329ff05e1f92",
   "metadata": {},
   "outputs": [],
   "source": [
    "# s00[35:40]"
   ]
  },
  {
   "cell_type": "code",
   "execution_count": 21,
   "id": "5212ffc0-a191-4ba4-b901-78be49888aae",
   "metadata": {},
   "outputs": [
    {
     "name": "stdout",
     "output_type": "stream",
     "text": [
      "0.24 0.1666666667 0.0833333333 0.1666666667\n",
      "ground truth\n",
      "# ::tok a plant was harmed by another organism , and that organism broke the plant into pieces\n",
      "(a / and~8\n",
      "    :op1 (h / harm-01~3\n",
      "        :ARG0 (o / organism~6\n",
      "            :mod (a2 / another~5))\n",
      "        :ARG1 (p2 / plant~1))\n",
      "    :op2 (b / break-01~11\n",
      "        :ARG0 o\n",
      "        :ARG1 p2\n",
      "        :ARG2 (p / piece~15)))\n",
      "\n",
      "# ::tok another organism was harmed by a plant , and that plant broke the organism into pieces\n",
      "(a / and~8\n",
      "    :op1 (h / harm-01~3\n",
      "        :ARG0 (p2 / plant~6)\n",
      "        :ARG1 (o / organism~1\n",
      "            :mod (a2 / another~0)))\n",
      "    :op2 (b / break-01~11\n",
      "        :ARG0 p2\n",
      "        :ARG1 o\n",
      "        :ARG2 (p / piece~15)))\n",
      "\n",
      "generated\n",
      "# ::tok a man is removing a tree from the top of a tree\n",
      "(r / remove-01~3\n",
      "    :ARG0 (m / man~1)\n",
      "    :ARG1 (t2 / tree~5)\n",
      "    :ARG2 (t / top~8\n",
      "        :part-of t2))\n",
      "\n",
      "# ::tok a carnivorous plant on a black background\n",
      "(p / plant~2\n",
      "    :location (b / background~6\n",
      "        :ARG1-of (b2 / black-04~5))\n",
      "    :mod (c / carnivore~1))\n",
      "\n"
     ]
    }
   ],
   "source": [
    "idx=6\n",
    "idx_scaled=idx*SAMPLE_SIZE\n",
    "print(s00[idx_scaled],s10[idx_scaled],s11[idx_scaled],s01[idx_scaled])\n",
    "print(\"ground truth\")\n",
    "print(gt_amrs[idx]['parse_0'])\n",
    "print(gt_amrs[idx]['parse_1'])\n",
    "print(\"generated\")\n",
    "print(cand_amrs[idx]['parses_0'][0])\n",
    "print(cand_amrs[idx]['parses_1'][0])"
   ]
  },
  {
   "cell_type": "code",
   "execution_count": null,
   "id": "9cbe9344-d625-4d2b-b6e0-6ddcd0b62471",
   "metadata": {},
   "outputs": [],
   "source": [
    "# Eval metric sensitivity\n",
    "# ground truth\n",
    "# # ::tok a bottle is in water\n",
    "# (b / be-located-at-91~3\n",
    "#     :ARG1 (b2 / bottle~1)\n",
    "#     :ARG2 (w / water~4))\n",
    "\n",
    "# # ::tok water is in a bottle\n",
    "# (b / be-located-at-91~2\n",
    "#     :ARG1 (w / water~0)\n",
    "#     :ARG2 (b2 / bottle~4))\n",
    "\n",
    "# generated\n",
    "# # ::tok a message in a bottle floating in the water\n",
    "# (m / message-01~1\n",
    "#     :location (b / bottle~4\n",
    "#         :ARG1-of (f / float-01~5\n",
    "#             :ARG2 (w / water~8))))\n",
    "\n",
    "# # ::tok a bottle of water on a white background\n",
    "# (w / water~3\n",
    "#     :quant (b2 / bottle~1)\n",
    "#     :prep-on (b / background~7\n",
    "#         :ARG1-of (w2 / white-03~6)))\n",
    "\n",
    "\n",
    "# ground truth\n",
    "# # ::tok there is a table below someone\n",
    "# (t / table~3\n",
    "#     :location (b / below~4\n",
    "#         :op1 (s / someone~5)))\n",
    "\n",
    "# # ::tok there is someone below a table\n",
    "# (s / someone~2\n",
    "#     :location (b / below~3\n",
    "#         :op1 (t / table~5)))\n",
    "\n",
    "# generated\n",
    "# # ::tok a woman standing on top of a table in an office\n",
    "# (s / stand-01~2\n",
    "#     :ARG1 (w / woman~1)\n",
    "#     :ARG2 (t2 / top~4\n",
    "#         :part-of (t / table~7\n",
    "#             :location (o / office~10))))\n",
    "\n",
    "# # ::tok a woman in a pink dress crouching under a table\n",
    "# (w / woman~1\n",
    "#     :ARG0-of (c / crouch-01~6\n",
    "#         :location (u / under~7\n",
    "#             :op1 (t / table~9)))\n",
    "#     :mod (d / dress~5\n",
    "#         :ARG1-of (p / pink-04~4)))\n",
    "\n",
    "\n",
    "## Complete caption failure\n",
    "\n",
    "# ground truth\n",
    "# # ::tok a tree smashed into a car\n",
    "# (s / smash-01~2\n",
    "#     :ARG1 (t / tree~1)\n",
    "#     :destination (c / car~5))\n",
    "\n",
    "# # ::tok a car smashed into a tree\n",
    "# (s / smash-01~2\n",
    "#     :ARG1 (c / car~1)\n",
    "#     :destination (t / tree~5))\n",
    "\n",
    "# generated\n",
    "# # ::tok a red car is parked under a fallen tree\n",
    "# (p / park-01~4\n",
    "#     :ARG1 (c / car~2\n",
    "#         :ARG1-of (r / red-02~1))\n",
    "#     :ARG2 (u / under~5\n",
    "#         :op1 (t / tree~8\n",
    "#             :ARG1-of (f / fall-01~7))))\n",
    "\n",
    "# # ::tok a white car is parked next to a tree\n",
    "# (p / park-01~4\n",
    "#     :ARG1 (c / car~2\n",
    "#         :ARG1-of (w / white-03~1))\n",
    "#     :ARG2 (n / next-to~5\n",
    "#         :op1 (t / tree~8)))\n",
    "\n",
    "# idx 15\n",
    "# ground truth\n",
    "# # ::tok there are more skiers than snowboarders\n",
    "# (h / have-quant-91~2\n",
    "#     :ARG1 (p / person~3\n",
    "#         :ARG0-of (s / ski-01~3))\n",
    "#     :ARG3 (m / more~2)\n",
    "#     :ARG4 (p2 / person~5\n",
    "#         :ARG0-of (s2 / ski-01~5)))\n",
    "\n",
    "# # ::tok there are more snowboarders than skiers\n",
    "# (h / have-quant-91~2\n",
    "#     :ARG1 (p / person~3\n",
    "#         :ARG0-of (s / ski-01~3))\n",
    "#     :ARG3 (m / more~2)\n",
    "#     :ARG4 (p2 / person~5\n",
    "#         :ARG0-of (s2 / ski-01~5)))\n",
    "\n",
    "# generated\n",
    "# # ::tok a group of people on skis\n",
    "# (g / group~1\n",
    "#     :consist-of (p / person~3\n",
    "#         :ARG0-of (s / ski-01~5)))\n",
    "\n",
    "# # ::tok a group of people on skis\n",
    "# (g / group~1\n",
    "#     :consist-of (p / person~3\n",
    "#         :ARG0-of (s / ski-01~5)))\n"
   ]
  }
 ],
 "metadata": {
  "kernelspec": {
   "display_name": "amr",
   "language": "python",
   "name": "cenv_x86"
  },
  "language_info": {
   "codemirror_mode": {
    "name": "ipython",
    "version": 3
   },
   "file_extension": ".py",
   "mimetype": "text/x-python",
   "name": "python",
   "nbconvert_exporter": "python",
   "pygments_lexer": "ipython3",
   "version": "3.8.18"
  }
 },
 "nbformat": 4,
 "nbformat_minor": 5
}
