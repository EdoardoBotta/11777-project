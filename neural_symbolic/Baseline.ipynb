{
 "cells": [
  {
   "cell_type": "code",
   "execution_count": 2,
   "id": "b87e1a05-fddf-496d-ad79-c7636ce5e11e",
   "metadata": {},
   "outputs": [
    {
     "data": {
      "application/vnd.jupyter.widget-view+json": {
       "model_id": "fca3bbf2fb634a4ca1e0f44a9fec5a21",
       "version_major": 2,
       "version_minor": 0
      },
      "text/plain": [
       "Loading checkpoint shards:   0%|          | 0/2 [00:00<?, ?it/s]"
      ]
     },
     "metadata": {},
     "output_type": "display_data"
    }
   ],
   "source": [
    "# pip install accelerate bitsandbytes\n",
    "import torch\n",
    "import requests\n",
    "from PIL import Image\n",
    "from transformers import Blip2Processor, Blip2Model\n",
    "\n",
    "model_name=\"Salesforce/blip2-flan-t5-xl\"\n",
    "# model_name=\"Salesforce/blip2-opt-6.7b-coco\"\n",
    "processor = Blip2Processor.from_pretrained(model_name)\n",
    "model = Blip2Model.from_pretrained(model_name, load_in_8bit=True, device_map=\"auto\")"
   ]
  },
  {
   "cell_type": "code",
   "execution_count": 3,
   "id": "19d63a8a-1287-4609-94ae-200aac58a1db",
   "metadata": {},
   "outputs": [],
   "source": [
    "from dotenv import load_dotenv\n",
    "import os\n",
    "from tqdm import tqdm\n",
    "import json\n",
    "\n",
    "load_dotenv()  # This loads the environment variables from .env\n",
    "\n",
    "api_key = os.getenv('HGF_KEY')\n",
    "\n",
    "from datasets import load_dataset\n",
    "winoground = load_dataset('facebook/winoground', token=api_key)['test']"
   ]
  },
  {
   "cell_type": "code",
   "execution_count": 4,
   "id": "93bff0d2-71fc-4245-8dd2-04310d59103d",
   "metadata": {},
   "outputs": [],
   "source": [
    "example = winoground[7]\n",
    "# winoground dataset images are already in RGB mode\n",
    "raw_image_0 = example['image_0'] "
   ]
  },
  {
   "cell_type": "code",
   "execution_count": 5,
   "id": "c7ca48de-42c2-46e2-817e-29f24d67814a",
   "metadata": {},
   "outputs": [],
   "source": [
    "inputs = processor(images=raw_image_0, return_tensors=\"pt\")\n",
    "qformer_outputs = model.get_qformer_features(**inputs)"
   ]
  },
  {
   "cell_type": "code",
   "execution_count": 7,
   "id": "a153fde6-4100-42ef-9797-9452b1e47d42",
   "metadata": {},
   "outputs": [
    {
     "data": {
      "text/plain": [
       "torch.Size([1, 32, 768])"
      ]
     },
     "execution_count": 7,
     "metadata": {},
     "output_type": "execute_result"
    }
   ],
   "source": [
    "qformer_outputs.last_hidden_state.shape"
   ]
  },
  {
   "cell_type": "code",
   "execution_count": null,
   "id": "01196411-ef95-4bb6-a7d1-7e2d96792207",
   "metadata": {},
   "outputs": [],
   "source": []
  }
 ],
 "metadata": {
  "kernelspec": {
   "display_name": "amr",
   "language": "python",
   "name": "cenv_x86"
  },
  "language_info": {
   "codemirror_mode": {
    "name": "ipython",
    "version": 3
   },
   "file_extension": ".py",
   "mimetype": "text/x-python",
   "name": "python",
   "nbconvert_exporter": "python",
   "pygments_lexer": "ipython3",
   "version": "3.8.18"
  }
 },
 "nbformat": 4,
 "nbformat_minor": 5
}
