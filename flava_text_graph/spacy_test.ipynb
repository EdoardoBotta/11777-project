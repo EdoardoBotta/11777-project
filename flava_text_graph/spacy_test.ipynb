{
 "cells": [
  {
   "cell_type": "code",
   "execution_count": null,
   "metadata": {},
   "outputs": [],
   "source": [
    "!pip3 install spacy\n",
    "!python3 -m spacy download en_core_web_sm"
   ]
  },
  {
   "cell_type": "code",
   "execution_count": 2,
   "metadata": {},
   "outputs": [
    {
     "name": "stdout",
     "output_type": "stream",
     "text": [
      "The [0] -- det --> fox\n",
      "quick [1] -- amod --> fox\n",
      "brown [2] -- amod --> fox\n",
      "fox [3] -- nsubj --> jumps\n",
      "jumps [4] -- ROOT --> jumps\n",
      "over [5] -- prep --> jumps\n",
      "the [6] -- det --> dog\n",
      "lazy [7] -- amod --> dog\n",
      "dog [8] -- pobj --> over\n",
      ". [9] -- punct --> jumps\n"
     ]
    }
   ],
   "source": [
    "import spacy\n",
    "\n",
    "# Load the English model\n",
    "nlp = spacy.load(\"en_core_web_sm\")\n",
    "\n",
    "# Process a sentence\n",
    "sentence = \"The quick brown fox jumps over the lazy dog.\"\n",
    "doc = nlp(sentence)\n",
    "\n",
    "# Access the dependency parse tree\n",
    "for token in doc:\n",
    "    print(f\"{token.text} [{token.i}] -- {token.dep_} --> {token.head.text}\")\n"
   ]
  },
  {
   "cell_type": "code",
   "execution_count": 3,
   "metadata": {},
   "outputs": [],
   "source": [
    "from spacy import displacy\n",
    "\n",
    "# Visualize the dependency parse tree\n",
    "displacy.serve(doc, style=\"dep\", port=8000)"
   ]
  }
 ],
 "metadata": {
  "kernelspec": {
   "display_name": "ml",
   "language": "python",
   "name": "python3"
  },
  "language_info": {
   "codemirror_mode": {
    "name": "ipython",
    "version": 3
   },
   "file_extension": ".py",
   "mimetype": "text/x-python",
   "name": "python",
   "nbconvert_exporter": "python",
   "pygments_lexer": "ipython3",
   "version": "3.11.5"
  }
 },
 "nbformat": 4,
 "nbformat_minor": 2
}
