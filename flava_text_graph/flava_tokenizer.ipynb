{
 "cells": [
  {
   "cell_type": "code",
   "execution_count": 21,
   "metadata": {},
   "outputs": [
    {
     "name": "stderr",
     "output_type": "stream",
     "text": [
      "`text_config_dict` is provided which will be used to initialize `FlavaTextConfig`. The value `text_config[\"id2label\"]` will be overriden.\n",
      "`multimodal_config_dict` is provided which will be used to initialize `FlavaMultimodalConfig`. The value `multimodal_config[\"id2label\"]` will be overriden.\n",
      "`image_codebook_config_dict` is provided which will be used to initialize `FlavaImageCodebookConfig`. The value `image_codebook_config[\"id2label\"]` will be overriden.\n"
     ]
    }
   ],
   "source": [
    "from transformers import BertTokenizer, FlavaModel\n",
    "import spacy\n",
    "import torch\n",
    "\n",
    "model = FlavaModel.from_pretrained(\"facebook/flava-full\")\n",
    "tokenizer = BertTokenizer.from_pretrained(\"facebook/flava-full\")\n",
    "nlp = spacy.load(\"en_core_web_sm\")"
   ]
  },
  {
   "cell_type": "code",
   "execution_count": 35,
   "metadata": {},
   "outputs": [
    {
     "name": "stdout",
     "output_type": "stream",
     "text": [
      "[101, 12403, 5666, 3640, 4138, 12158, 5754, 17287, 9285, 1010, 1998, 2017, 2064, 8849, 2536, 5144, 1012, 102]\n",
      "['spa', '##cy', 'provides', 'rich', 'linguistic', 'ann', '##ota', '##tions', ',', 'and', 'you', 'can', 'explore', 'various', 'properties', '.']\n",
      "SpaCy [0] -- nsubj --> provides [1]\n",
      "provides [1] -- ROOT --> provides [1]\n",
      "rich [2] -- amod --> annotations [4]\n",
      "linguistic [3] -- amod --> annotations [4]\n",
      "annotations [4] -- dobj --> provides [1]\n",
      ", [5] -- punct --> provides [1]\n",
      "and [6] -- cc --> provides [1]\n",
      "you [7] -- nsubj --> explore [9]\n",
      "can [8] -- aux --> explore [9]\n",
      "explore [9] -- conj --> provides [1]\n",
      "various [10] -- amod --> properties [11]\n",
      "properties [11] -- dobj --> explore [9]\n",
      ". [12] -- punct --> explore [9]\n",
      "SpaCy ['spa', '##cy']\n",
      "provides ['provides']\n",
      "rich ['rich']\n",
      "linguistic ['linguistic']\n",
      "annotations ['ann', '##ota', '##tions']\n",
      ", [',']\n",
      "and ['and']\n",
      "you ['you']\n",
      "can ['can']\n",
      "explore ['explore']\n",
      "various ['various']\n",
      "properties ['properties']\n",
      ". ['.']\n",
      "[0, 0, 1, 0, 0, 0, 0, 0, 0, 0, 0, 0, 0, 0, 0, 0]\n",
      "[0, 0, 1, 0, 0, 0, 0, 0, 0, 0, 0, 0, 0, 0, 0, 0]\n",
      "[0, 0, 1, 0, 0, 0, 0, 0, 0, 0, 0, 0, 0, 0, 0, 0]\n",
      "[0, 0, 0, 0, 0, 1, 1, 1, 0, 0, 0, 0, 0, 0, 0, 0]\n",
      "[0, 0, 0, 0, 0, 1, 1, 1, 0, 0, 0, 0, 0, 0, 0, 0]\n",
      "[0, 0, 1, 0, 0, 0, 0, 0, 0, 0, 0, 0, 0, 0, 0, 0]\n",
      "[0, 0, 1, 0, 0, 0, 0, 0, 0, 0, 0, 0, 0, 0, 0, 0]\n",
      "[0, 0, 1, 0, 0, 0, 0, 0, 0, 0, 0, 0, 0, 0, 0, 0]\n",
      "[0, 0, 1, 0, 0, 0, 0, 0, 0, 0, 0, 0, 0, 0, 0, 0]\n",
      "[0, 0, 1, 0, 0, 0, 0, 0, 0, 0, 0, 0, 0, 0, 0, 0]\n",
      "[0, 0, 0, 0, 0, 0, 0, 0, 0, 0, 0, 0, 1, 0, 0, 0]\n",
      "[0, 0, 0, 0, 0, 0, 0, 0, 0, 0, 0, 0, 1, 0, 0, 0]\n",
      "[0, 0, 1, 0, 0, 0, 0, 0, 0, 0, 0, 0, 0, 0, 0, 0]\n",
      "[0, 0, 0, 0, 0, 0, 0, 0, 0, 0, 0, 0, 0, 0, 1, 0]\n",
      "[0, 0, 0, 0, 0, 0, 0, 0, 0, 0, 0, 0, 1, 0, 0, 0]\n",
      "[0, 0, 0, 0, 0, 0, 0, 0, 0, 0, 0, 0, 1, 0, 0, 0]\n",
      "[None, None, 'nsubj', None, None, None, None, None, None, None, None, None, None, None, None, None]\n",
      "[None, None, 'nsubj', None, None, None, None, None, None, None, None, None, None, None, None, None]\n",
      "[None, None, 'ROOT', None, None, None, None, None, None, None, None, None, None, None, None, None]\n",
      "[None, None, None, None, None, 'amod', 'amod', 'amod', None, None, None, None, None, None, None, None]\n",
      "[None, None, None, None, None, 'amod', 'amod', 'amod', None, None, None, None, None, None, None, None]\n",
      "[None, None, 'dobj', None, None, None, None, None, None, None, None, None, None, None, None, None]\n",
      "[None, None, 'dobj', None, None, None, None, None, None, None, None, None, None, None, None, None]\n",
      "[None, None, 'dobj', None, None, None, None, None, None, None, None, None, None, None, None, None]\n",
      "[None, None, 'punct', None, None, None, None, None, None, None, None, None, None, None, None, None]\n",
      "[None, None, 'cc', None, None, None, None, None, None, None, None, None, None, None, None, None]\n",
      "[None, None, None, None, None, None, None, None, None, None, None, None, 'nsubj', None, None, None]\n",
      "[None, None, None, None, None, None, None, None, None, None, None, None, 'aux', None, None, None]\n",
      "[None, None, 'conj', None, None, None, None, None, None, None, None, None, None, None, None, None]\n",
      "[None, None, None, None, None, None, None, None, None, None, None, None, None, None, 'amod', None]\n",
      "[None, None, None, None, None, None, None, None, None, None, None, None, 'dobj', None, None, None]\n",
      "[None, None, None, None, None, None, None, None, None, None, None, None, 'punct', None, None, None]\n"
     ]
    }
   ],
   "source": [
    "sentence = \"SpaCy provides rich linguistic annotations, and you can explore various properties.\"\n",
    "\n",
    "inputs = tokenizer(sentence)\n",
    "input_ids = inputs[\"input_ids\"]\n",
    "print(input_ids)\n",
    "tokens = tokenizer.convert_ids_to_tokens(input_ids)\n",
    "tokens = list(filter(lambda x: x != \"[CLS]\" and x != \"[SEP]\", tokens)) # TODO: add these back in in the graph\n",
    "print(tokens)\n",
    "edges = nlp(sentence)\n",
    "for word in edges:\n",
    "    print(f\"{word.text} [{word.i}] -- {word.dep_} --> {word.head.text} [{word.head.i}]\")\n",
    "\n",
    "class Graph:\n",
    "    def __init__(self, n):\n",
    "        self.n = n\n",
    "        self.mat = [[None for i in range(n)] for j in range(n)]\n",
    "\n",
    "    def add_edge(self, u, v, edge_type):\n",
    "        self.mat[u][v] = edge_type\n",
    "    \n",
    "    def get_01_graph(self):\n",
    "        return [[1 if self.mat[i][j] is not None else 0 for j in range(self.n)] for i in range(self.n)]\n",
    "    \n",
    "\n",
    "graph = Graph(len(tokens))\n",
    "sentence_arr = [token.text for token in edges]\n",
    "sentence_to_token_idxs = []\n",
    "i = 0\n",
    "for word in edges:\n",
    "    token_idxs = [i]\n",
    "    i += 1\n",
    "    while i < len(tokens) and \"##\" in tokens[i]:\n",
    "        token_idxs.append(i)\n",
    "        i += 1\n",
    "    sentence_to_token_idxs.append(token_idxs)\n",
    "\n",
    "for word in edges:\n",
    "    print(f\"{word.text} {[tokens[i] for i in sentence_to_token_idxs[word.i]]}\")\n",
    "    from_nodes = sentence_to_token_idxs[word.i]\n",
    "    to_nodes = sentence_to_token_idxs[word.head.i]\n",
    "    for from_node in from_nodes:\n",
    "        for to_node in to_nodes:\n",
    "            graph.add_edge(from_node, to_node, word.dep_)\n",
    "\n",
    "# print 01 matrix\n",
    "for row in graph.get_01_graph():\n",
    "    print(row)\n",
    "\n",
    "# print type matrix\n",
    "for row in graph.mat:\n",
    "    print(row)\n"
   ]
  },
  {
   "cell_type": "code",
   "execution_count": null,
   "metadata": {},
   "outputs": [],
   "source": [
    "tokenizer."
   ]
  }
 ],
 "metadata": {
  "kernelspec": {
   "display_name": "ml",
   "language": "python",
   "name": "python3"
  },
  "language_info": {
   "codemirror_mode": {
    "name": "ipython",
    "version": 3
   },
   "file_extension": ".py",
   "mimetype": "text/x-python",
   "name": "python",
   "nbconvert_exporter": "python",
   "pygments_lexer": "ipython3",
   "version": "3.11.5"
  }
 },
 "nbformat": 4,
 "nbformat_minor": 2
}
