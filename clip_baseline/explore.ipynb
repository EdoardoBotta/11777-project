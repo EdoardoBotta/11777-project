{
 "cells": [
  {
   "cell_type": "code",
   "execution_count": null,
   "metadata": {},
   "outputs": [],
   "source": [
    "from datasets import load_dataset\n",
    "import json\n",
    "from matplotlib import pyplot as plt\n",
    "from tqdm import tqdm\n",
    "\n",
    "\n",
    "auth_token = \"your_token_hereeeeeeeeeeeeeeeeeeeeeeeeeeeeeeee\"  # Replace with an auth token, which you can get from your huggingface account: Profile -> Settings -> Access Tokens -> New Token\n",
    "winoground = load_dataset(\"facebook/winoground\", use_auth_token=auth_token)[\"test\"]"
   ]
  },
  {
   "cell_type": "code",
   "execution_count": null,
   "metadata": {},
   "outputs": [],
   "source": [
    "def draw_image_pair(id):\n",
    "    image_0 = winoground[id][\"image_0\"].convert(\"RGB\")\n",
    "    image_1 = winoground[id][\"image_1\"].convert(\"RGB\")\n",
    "\n",
    "    plt.subplot(1, 2, 1)\n",
    "    plt.imshow(image_0)\n",
    "    plt.axis(\"off\")\n",
    "    plt.text(0, 0, winoground[id][\"caption_0\"], fontsize=8)\n",
    "    plt.subplot(1, 2, 2)\n",
    "    plt.imshow(image_1)\n",
    "    plt.axis(\"off\")\n",
    "    plt.text(0, 0, winoground[id][\"caption_1\"], fontsize=8)\n",
    "    plt.show()\n",
    "\n",
    "\n",
    "# Draw all image pairs horizontally, then show the pairs vertically\n",
    "def draw_all_image_pairs(ids):\n",
    "    images = []\n",
    "    for id in ids:\n",
    "        image_0 = winoground[id][\"image_0\"].convert(\"RGB\")\n",
    "        image_1 = winoground[id][\"image_1\"].convert(\"RGB\")\n",
    "        images.append(image_0)\n",
    "        images.append(image_1)\n",
    "\n",
    "    plt.figure(figsize=(20, len(images) * 5))\n",
    "    for i in range(len(images)):\n",
    "        plt.subplot(len(images) // 2, 2, i + 1)\n",
    "        plt.imshow(images[i])\n",
    "        # Write the caption for the image\n",
    "        if i % 2 == 0:\n",
    "            plt.text(0, -100, str(ids[i // 2]) + \": \" + winoground[ids[i // 2]][\"caption_0\"], fontsize=20)\n",
    "        else:\n",
    "            plt.text(0, -40, winoground[ids[i // 2]][\"caption_1\"], fontsize=20)\n",
    "        plt.axis(\"off\")\n",
    "    plt.show()"
   ]
  },
  {
   "cell_type": "code",
   "execution_count": null,
   "metadata": {},
   "outputs": [],
   "source": [
    "ids =[0,1,2,5,6,7,8,9,11,12,14,15,17,18,19,20]\n",
    "# ids = [21,24,26,29,30,32,33,34,35,37,39,43,45,47,48,50]\n",
    "# ids =[51,52,53,54,56,57,59,60,64,66,67]\n",
    "\n",
    "draw_all_image_pairs(ids)\n"
   ]
  },
  {
   "cell_type": "code",
   "execution_count": null,
   "metadata": {},
   "outputs": [],
   "source": [
    "# ids =[0,1,2,5,6,7,8,9,11,12,14,15,17,18,19,20]\n",
    "ids = [21,24,26,29,30,32,33,34,35,37,39,43,45,47,48,50]\n",
    "# ids =[51,52,53,54,56,57,59,60,64,66,67]\n",
    "\n",
    "draw_all_image_pairs(ids)\n"
   ]
  },
  {
   "cell_type": "code",
   "execution_count": null,
   "metadata": {},
   "outputs": [],
   "source": [
    "# ids =[0,1,2,5,6,7,8,9,11,12,14,15,17,18,19,20]\n",
    "# ids = [21,24,26,29,30,32,33,34,35,37,39,43,45,47,48,50]\n",
    "ids =[51,52,53,54,56,57,59,60,64,66,67]\n",
    "\n",
    "draw_all_image_pairs(ids)\n"
   ]
  },
  {
   "cell_type": "code",
   "execution_count": null,
   "metadata": {},
   "outputs": [],
   "source": [
    "# all_correct\n",
    "ids = [29, 45, 90, 91, 124, 151, 162, 205, 250, 252, 269, 273, 337, 389]\n",
    "\n",
    "draw_all_image_pairs(ids)"
   ]
  },
  {
   "cell_type": "code",
   "execution_count": null,
   "metadata": {},
   "outputs": [],
   "source": [
    "# image_correct\n",
    "ids = [5, 57, 98]\n",
    "\n",
    "draw_all_image_pairs(ids)"
   ]
  },
  {
   "cell_type": "code",
   "execution_count": null,
   "metadata": {},
   "outputs": [],
   "source": [
    "# text_correct\n",
    "ids= [6, 8, 9, 11, 21, 32, 33, 52, 54, 80, 87, 102, 112, 115, 122, 137, 140, 142, 147, 153, 158, 160, 161, 170, 178, 180, 195, 202, 231, 261, 279, 283, 290, 294, 301, 309, 341, 349, 360, 370]\n",
    "\n",
    "draw_all_image_pairs(ids)"
   ]
  },
  {
   "cell_type": "code",
   "execution_count": null,
   "metadata": {},
   "outputs": [],
   "source": [
    "# ids=[71, 102, 104, 105, 106, 107, 108, 109, 112, 115, 122, 125, 127]\n",
    "# ids = [100, 117, 120, 126]\n",
    "ids = [79, 91, 137, 154]\n",
    "draw_all_image_pairs(ids)\n"
   ]
  }
 ],
 "metadata": {
  "kernelspec": {
   "display_name": "Python 3 (ipykernel)",
   "language": "python",
   "name": "python3"
  },
  "language_info": {
   "codemirror_mode": {
    "name": "ipython",
    "version": 3
   },
   "file_extension": ".py",
   "mimetype": "text/x-python",
   "name": "python",
   "nbconvert_exporter": "python",
   "pygments_lexer": "ipython3",
   "version": "3.11.5"
  }
 },
 "nbformat": 4,
 "nbformat_minor": 2
}
