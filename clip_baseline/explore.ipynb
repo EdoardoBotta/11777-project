{
 "cells": [
  {
   "cell_type": "code",
   "execution_count": 2,
   "metadata": {},
   "outputs": [
    {
     "name": "stderr",
     "output_type": "stream",
     "text": [
      "Using the latest cached version of the module from /home/sean/.cache/huggingface/modules/datasets_modules/datasets/facebook--winoground/72585f4d9cd5a28790bb9bc2adbdd45633f36dfbf85df529e0756e114e134285 (last modified on Fri Oct  6 21:10:26 2023) since it couldn't be found locally at facebook/winoground., or remotely on the Hugging Face Hub.\n",
      "Found cached dataset winoground (/home/sean/.cache/huggingface/datasets/facebook___winoground/default/0.0.0/72585f4d9cd5a28790bb9bc2adbdd45633f36dfbf85df529e0756e114e134285)\n"
     ]
    },
    {
     "data": {
      "application/vnd.jupyter.widget-view+json": {
       "model_id": "4b979ecc41db4d2cbd9445cf68eb1bca",
       "version_major": 2,
       "version_minor": 0
      },
      "text/plain": [
       "  0%|          | 0/1 [00:00<?, ?it/s]"
      ]
     },
     "metadata": {},
     "output_type": "display_data"
    }
   ],
   "source": [
    "from datasets import load_dataset\n",
    "import json\n",
    "from matplotlib import pyplot as plt\n",
    "from tqdm import tqdm\n",
    "import csv\n",
    "\n",
    "auth_token = \"your_token_hereeeeeeeeeeeeeeeeeeeeeeeeeeeeeeee\"  # Replace with an auth token, which you can get from your huggingface account: Profile -> Settings -> Access Tokens -> New Token\n",
    "winoground = load_dataset(\"facebook/winoground\", use_auth_token=auth_token)[\"test\"]"
   ]
  },
  {
   "cell_type": "code",
   "execution_count": 3,
   "metadata": {},
   "outputs": [],
   "source": [
    "def draw_image_pair(id):\n",
    "    image_0 = winoground[id][\"image_0\"].convert(\"RGB\")\n",
    "    image_1 = winoground[id][\"image_1\"].convert(\"RGB\")\n",
    "\n",
    "    plt.subplot(1, 2, 1)\n",
    "    plt.imshow(image_0)\n",
    "    plt.axis(\"off\")\n",
    "    plt.text(0, 0, winoground[id][\"caption_0\"], fontsize=8)\n",
    "    plt.subplot(1, 2, 2)\n",
    "    plt.imshow(image_1)\n",
    "    plt.axis(\"off\")\n",
    "    plt.text(0, 0, winoground[id][\"caption_1\"], fontsize=8)\n",
    "    plt.show()\n",
    "\n",
    "\n",
    "# Draw all image pairs horizontally, then show the pairs vertically\n",
    "def draw_all_image_pairs(ids):\n",
    "    images = []\n",
    "    for id in ids:\n",
    "        image_0 = winoground[id][\"image_0\"].convert(\"RGB\")\n",
    "        image_1 = winoground[id][\"image_1\"].convert(\"RGB\")\n",
    "        images.append(image_0)\n",
    "        images.append(image_1)\n",
    "\n",
    "    plt.figure(figsize=(20, len(images) * 5))\n",
    "    for i in range(len(images)):\n",
    "        plt.subplot(len(images) // 2, 2, i + 1)\n",
    "        plt.imshow(images[i])\n",
    "        # Write the caption for the image\n",
    "        if i % 2 == 0:\n",
    "            plt.text(0, -100, str(ids[i // 2]) + \": \" + winoground[ids[i // 2]][\"caption_0\"], fontsize=20)\n",
    "        else:\n",
    "            plt.text(0, -40, winoground[ids[i // 2]][\"caption_1\"], fontsize=20)\n",
    "        plt.axis(\"off\")\n",
    "    plt.show()"
   ]
  },
  {
   "cell_type": "code",
   "execution_count": null,
   "metadata": {},
   "outputs": [],
   "source": [
    "ids =[0,1,2,5,6,7,8,9,11,12,14,15,17,18,19,20]\n",
    "# ids = [21,24,26,29,30,32,33,34,35,37,39,43,45,47,48,50]\n",
    "# ids =[51,52,53,54,56,57,59,60,64,66,67]\n",
    "\n",
    "draw_all_image_pairs(ids)\n"
   ]
  },
  {
   "cell_type": "code",
   "execution_count": 4,
   "metadata": {},
   "outputs": [
    {
     "name": "stdout",
     "output_type": "stream",
     "text": [
      "{0: {'image': False, 'text': False, 'group': False}, 1: {'image': False, 'text': False, 'group': False}, 2: {'image': False, 'text': False, 'group': False}, 5: {'image': True, 'text': False, 'group': False}, 6: {'image': False, 'text': True, 'group': False}, 7: {'image': False, 'text': False, 'group': False}, 8: {'image': False, 'text': True, 'group': False}, 9: {'image': False, 'text': True, 'group': False}, 11: {'image': False, 'text': True, 'group': False}, 12: {'image': False, 'text': False, 'group': False}, 14: {'image': False, 'text': False, 'group': False}, 15: {'image': False, 'text': False, 'group': False}, 17: {'image': False, 'text': False, 'group': False}, 18: {'image': False, 'text': False, 'group': False}, 19: {'image': False, 'text': False, 'group': False}, 20: {'image': False, 'text': False, 'group': False}, 21: {'image': False, 'text': True, 'group': False}, 24: {'image': False, 'text': False, 'group': False}, 26: {'image': False, 'text': False, 'group': False}, 29: {'image': True, 'text': True, 'group': True}, 30: {'image': False, 'text': False, 'group': False}, 32: {'image': False, 'text': True, 'group': False}, 33: {'image': False, 'text': True, 'group': False}, 34: {'image': False, 'text': False, 'group': False}, 35: {'image': False, 'text': False, 'group': False}, 37: {'image': False, 'text': False, 'group': False}, 39: {'image': False, 'text': False, 'group': False}, 43: {'image': False, 'text': False, 'group': False}, 45: {'image': True, 'text': True, 'group': True}, 47: {'image': False, 'text': False, 'group': False}, 48: {'image': False, 'text': False, 'group': False}, 50: {'image': False, 'text': False, 'group': False}, 51: {'image': False, 'text': False, 'group': False}, 52: {'image': False, 'text': True, 'group': False}, 53: {'image': False, 'text': False, 'group': False}, 54: {'image': False, 'text': True, 'group': False}, 56: {'image': False, 'text': False, 'group': False}, 57: {'image': True, 'text': False, 'group': False}, 59: {'image': False, 'text': False, 'group': False}, 60: {'image': False, 'text': False, 'group': False}, 64: {'image': False, 'text': False, 'group': False}, 66: {'image': False, 'text': False, 'group': False}, 67: {'image': False, 'text': False, 'group': False}, 71: {'image': False, 'text': False, 'group': False}, 79: {'image': False, 'text': False, 'group': False}, 80: {'image': False, 'text': True, 'group': False}, 85: {'image': False, 'text': False, 'group': False}, 87: {'image': False, 'text': True, 'group': False}, 89: {'image': False, 'text': False, 'group': False}, 90: {'image': True, 'text': True, 'group': True}, 91: {'image': True, 'text': True, 'group': True}, 92: {'image': False, 'text': False, 'group': False}, 94: {'image': False, 'text': False, 'group': False}, 98: {'image': True, 'text': False, 'group': False}, 99: {'image': False, 'text': False, 'group': False}, 100: {'image': False, 'text': False, 'group': False}, 101: {'image': False, 'text': False, 'group': False}, 102: {'image': False, 'text': True, 'group': False}, 104: {'image': False, 'text': False, 'group': False}, 105: {'image': False, 'text': False, 'group': False}, 106: {'image': False, 'text': False, 'group': False}, 107: {'image': False, 'text': False, 'group': False}, 108: {'image': False, 'text': False, 'group': False}, 109: {'image': False, 'text': False, 'group': False}, 112: {'image': False, 'text': True, 'group': False}, 115: {'image': False, 'text': True, 'group': False}, 117: {'image': False, 'text': False, 'group': False}, 120: {'image': False, 'text': False, 'group': False}, 122: {'image': False, 'text': True, 'group': False}, 123: {'image': False, 'text': False, 'group': False}, 124: {'image': True, 'text': True, 'group': True}, 125: {'image': False, 'text': False, 'group': False}, 126: {'image': False, 'text': False, 'group': False}, 127: {'image': False, 'text': False, 'group': False}, 129: {'image': False, 'text': False, 'group': False}, 137: {'image': False, 'text': True, 'group': False}, 139: {'image': False, 'text': False, 'group': False}, 140: {'image': False, 'text': True, 'group': False}, 141: {'image': False, 'text': False, 'group': False}, 142: {'image': False, 'text': True, 'group': False}, 145: {'image': False, 'text': False, 'group': False}, 146: {'image': False, 'text': False, 'group': False}, 147: {'image': False, 'text': True, 'group': False}, 151: {'image': True, 'text': True, 'group': True}, 153: {'image': False, 'text': True, 'group': False}, 154: {'image': False, 'text': False, 'group': False}, 157: {'image': False, 'text': False, 'group': False}, 158: {'image': False, 'text': True, 'group': False}, 160: {'image': False, 'text': True, 'group': False}, 161: {'image': False, 'text': True, 'group': False}, 162: {'image': True, 'text': True, 'group': True}, 165: {'image': False, 'text': False, 'group': False}, 166: {'image': False, 'text': False, 'group': False}, 167: {'image': False, 'text': False, 'group': False}, 168: {'image': False, 'text': False, 'group': False}, 169: {'image': False, 'text': False, 'group': False}, 170: {'image': False, 'text': True, 'group': False}, 171: {'image': False, 'text': False, 'group': False}, 175: {'image': False, 'text': False, 'group': False}, 177: {'image': False, 'text': False, 'group': False}, 178: {'image': False, 'text': True, 'group': False}, 179: {'image': False, 'text': False, 'group': False}, 180: {'image': False, 'text': True, 'group': False}, 181: {'image': False, 'text': False, 'group': False}, 183: {'image': False, 'text': False, 'group': False}, 184: {'image': False, 'text': False, 'group': False}, 185: {'image': False, 'text': False, 'group': False}, 186: {'image': False, 'text': False, 'group': False}, 194: {'image': False, 'text': False, 'group': False}, 195: {'image': False, 'text': True, 'group': False}, 196: {'image': False, 'text': False, 'group': False}, 197: {'image': False, 'text': False, 'group': False}, 202: {'image': False, 'text': True, 'group': False}, 205: {'image': True, 'text': True, 'group': True}, 207: {'image': False, 'text': False, 'group': False}, 212: {'image': False, 'text': False, 'group': False}, 213: {'image': False, 'text': False, 'group': False}, 216: {'image': False, 'text': False, 'group': False}, 225: {'image': False, 'text': False, 'group': False}, 231: {'image': False, 'text': True, 'group': False}, 236: {'image': False, 'text': False, 'group': False}, 240: {'image': False, 'text': False, 'group': False}, 243: {'image': False, 'text': False, 'group': False}, 244: {'image': False, 'text': False, 'group': False}, 248: {'image': False, 'text': False, 'group': False}, 250: {'image': True, 'text': True, 'group': True}, 251: {'image': False, 'text': False, 'group': False}, 252: {'image': True, 'text': True, 'group': True}, 256: {'image': False, 'text': False, 'group': False}, 259: {'image': False, 'text': False, 'group': False}, 261: {'image': False, 'text': True, 'group': False}, 265: {'image': False, 'text': False, 'group': False}, 266: {'image': False, 'text': False, 'group': False}, 269: {'image': True, 'text': True, 'group': True}, 270: {'image': False, 'text': False, 'group': False}, 271: {'image': False, 'text': False, 'group': False}, 272: {'image': False, 'text': False, 'group': False}, 273: {'image': True, 'text': True, 'group': True}, 278: {'image': False, 'text': False, 'group': False}, 279: {'image': False, 'text': True, 'group': False}, 283: {'image': False, 'text': True, 'group': False}, 285: {'image': False, 'text': False, 'group': False}, 288: {'image': False, 'text': False, 'group': False}, 289: {'image': False, 'text': False, 'group': False}, 290: {'image': False, 'text': True, 'group': False}, 291: {'image': False, 'text': False, 'group': False}, 294: {'image': False, 'text': True, 'group': False}, 297: {'image': False, 'text': False, 'group': False}, 301: {'image': False, 'text': True, 'group': False}, 302: {'image': False, 'text': False, 'group': False}, 306: {'image': False, 'text': False, 'group': False}, 308: {'image': False, 'text': False, 'group': False}, 309: {'image': False, 'text': True, 'group': False}, 317: {'image': False, 'text': False, 'group': False}, 328: {'image': False, 'text': False, 'group': False}, 337: {'image': True, 'text': True, 'group': True}, 341: {'image': False, 'text': True, 'group': False}, 349: {'image': False, 'text': True, 'group': False}, 357: {'image': False, 'text': False, 'group': False}, 360: {'image': False, 'text': True, 'group': False}, 366: {'image': False, 'text': False, 'group': False}, 368: {'image': False, 'text': False, 'group': False}, 369: {'image': False, 'text': False, 'group': False}, 370: {'image': False, 'text': True, 'group': False}, 372: {'image': False, 'text': False, 'group': False}, 378: {'image': False, 'text': False, 'group': False}, 379: {'image': False, 'text': False, 'group': False}, 380: {'image': False, 'text': False, 'group': False}, 389: {'image': True, 'text': True, 'group': True}, 391: {'image': False, 'text': False, 'group': False}, 397: {'image': False, 'text': False, 'group': False}}\n",
      "Group correct ids: 14\n",
      "Image correct ids: 3\n",
      "Text correct ids: 40\n",
      "None correct ids: 114\n"
     ]
    }
   ],
   "source": [
    "def load_clip_results():\n",
    "    results = {}\n",
    "    # TEXT SCORE: 2 captions, 1 image\n",
    "    # IMAGE SCORE: 1 caption, 2 images\n",
    "    # GROUP SCORE: TEXT SCORE && IMAGE SCORE\n",
    "\n",
    "    with open(\"winoground_clip_results.csv\") as f:\n",
    "        reader = csv.reader(f)\n",
    "        for idx, row in enumerate(reader):\n",
    "            results[idx] = {\"image\": row[0].strip() == \"True\", \"text\": row[1].strip() == \"True\", \"group\": row[2].strip() == \"True\"}\n",
    "    return results\n",
    "\n",
    "\n",
    "def load_no_tag_ids():\n",
    "    with open(\"no_tag_ids.json\") as f:\n",
    "        return json.load(f)\n",
    "\n",
    "\n",
    "clip_results = load_clip_results()\n",
    "no_tag_ids = load_no_tag_ids()\n",
    "clip_no_tag_results = {k: v for k, v in clip_results.items() if k in no_tag_ids}\n",
    "print(clip_no_tag_results)\n",
    "group_correct_ids = [k for k, v in clip_no_tag_results.items() if v[\"group\"]]\n",
    "image_correct_ids = [k for k, v in clip_no_tag_results.items() if v[\"image\"] and not v[\"group\"]]\n",
    "text_correct_ids = [k for k, v in clip_no_tag_results.items() if v[\"text\"] and not v[\"group\"]]\n",
    "none_correct_ids = [k for k, v in clip_no_tag_results.items() if not v[\"text\"] and not v[\"image\"] and not v[\"group\"]]\n",
    "print(\"Group correct ids:\", len(group_correct_ids))\n",
    "print(\"Image correct ids:\", len(image_correct_ids))\n",
    "print(\"Text correct ids:\", len(text_correct_ids))\n",
    "print(\"None correct ids:\", len(none_correct_ids))"
   ]
  },
  {
   "cell_type": "code",
   "execution_count": 5,
   "metadata": {},
   "outputs": [
    {
     "name": "stdout",
     "output_type": "stream",
     "text": [
      "Group correct ids: [29, 45, 90, 91, 124, 151, 162, 205, 250, 252, 269, 273, 337, 389]\n",
      "Image correct ids: [5, 57, 98]\n",
      "Text correct ids: [6, 8, 9, 11, 21, 32, 33, 52, 54, 80, 87, 102, 112, 115, 122, 137, 140, 142, 147, 153, 158, 160, 161, 170, 178, 180, 195, 202, 231, 261, 279, 283, 290, 294, 301, 309, 341, 349, 360, 370]\n",
      "None correct ids: [0, 1, 2, 7, 12, 14, 15, 17, 18, 19, 20, 24, 26, 30, 34, 35, 37, 39, 43, 47, 48, 50, 51, 53, 56, 59, 60, 64, 66, 67, 71, 79, 85, 89, 92, 94, 99, 100, 101, 104, 105, 106, 107, 108, 109, 117, 120, 123, 125, 126, 127, 129, 139, 141, 145, 146, 154, 157, 165, 166, 167, 168, 169, 171, 175, 177, 179, 181, 183, 184, 185, 186, 194, 196, 197, 207, 212, 213, 216, 225, 236, 240, 243, 244, 248, 251, 256, 259, 265, 266, 270, 271, 272, 278, 285, 288, 289, 291, 297, 302, 306, 308, 317, 328, 357, 366, 368, 369, 372, 378, 379, 380, 391, 397]\n"
     ]
    }
   ],
   "source": [
    "print(\"Group correct ids:\", group_correct_ids)\n",
    "print(\"Image correct ids:\", image_correct_ids)\n",
    "print(\"Text correct ids:\", text_correct_ids)\n",
    "print(\"None correct ids:\", none_correct_ids)"
   ]
  },
  {
   "cell_type": "code",
   "execution_count": null,
   "metadata": {},
   "outputs": [],
   "source": [
    "# draw_all_image_pairs(none_correct_ids[:40])\n",
    "# draw_all_image_pairs(none_correct_ids[40:80])\n",
    "draw_all_image_pairs(none_correct_ids[80:120])\n"
   ]
  }
 ],
 "metadata": {
  "kernelspec": {
   "display_name": "Python 3 (ipykernel)",
   "language": "python",
   "name": "python3"
  },
  "language_info": {
   "codemirror_mode": {
    "name": "ipython",
    "version": 3
   },
   "file_extension": ".py",
   "mimetype": "text/x-python",
   "name": "python",
   "nbconvert_exporter": "python",
   "pygments_lexer": "ipython3",
   "version": "3.1.0"
  }
 },
 "nbformat": 4,
 "nbformat_minor": 2
}
